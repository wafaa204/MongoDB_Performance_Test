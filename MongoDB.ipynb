{
 "cells": [
  {
   "cell_type": "code",
   "execution_count": 31,
   "id": "acc75b74-d7d3-473c-8459-7264a6aecc3e",
   "metadata": {
    "scrolled": true
   },
   "outputs": [
    {
     "name": "stdout",
     "output_type": "stream",
     "text": [
      "Defaulting to user installation because normal site-packages is not writeable\n",
      "Requirement already satisfied: pymongo in c:\\users\\lenovo\\appdata\\roaming\\python\\python312\\site-packages (4.12.1)\n",
      "Requirement already satisfied: dnspython<3.0.0,>=1.16.0 in c:\\users\\lenovo\\appdata\\roaming\\python\\python312\\site-packages (from pymongo) (2.7.0)\n"
     ]
    }
   ],
   "source": [
    "!pip install pymongo\n"
   ]
  },
  {
   "cell_type": "code",
   "execution_count": 32,
   "id": "24aaa4d6-dee9-456c-a9df-ac9f913034e5",
   "metadata": {},
   "outputs": [],
   "source": [
    "from pymongo import MongoClient"
   ]
  },
  {
   "cell_type": "code",
   "execution_count": 33,
   "id": "b77d589c-1648-4f00-9c45-eb802a9ccd8c",
   "metadata": {},
   "outputs": [],
   "source": [
    "#connect with local database ..\n",
    "client=MongoClient(\"mongodb://localhost:27017/\")"
   ]
  },
  {
   "cell_type": "code",
   "execution_count": 34,
   "id": "13c096d5-75ac-424b-8ebc-36e29a5396e6",
   "metadata": {},
   "outputs": [],
   "source": [
    "#create database ..\n",
    "database=client[\"test\"]"
   ]
  },
  {
   "cell_type": "code",
   "execution_count": 35,
   "id": "91d66f82-993d-4d5b-ba7a-0a6ccf59ad15",
   "metadata": {},
   "outputs": [],
   "source": [
    "#create collection ..\n",
    "collection=database[\"test_data\"]"
   ]
  },
  {
   "cell_type": "code",
   "execution_count": 36,
   "id": "dc3fd242-7c77-481d-a1aa-9aacd254d770",
   "metadata": {},
   "outputs": [
    {
     "data": {
      "text/plain": [
       "DeleteResult({'n': 10000, 'ok': 1.0}, acknowledged=True)"
      ]
     },
     "execution_count": 36,
     "metadata": {},
     "output_type": "execute_result"
    }
   ],
   "source": [
    "#delete the whole previous data ..\n",
    "collection.delete_many({})"
   ]
  },
  {
   "cell_type": "code",
   "execution_count": 37,
   "id": "e4d77673-83e5-4926-b365-7b308f5e6a2a",
   "metadata": {},
   "outputs": [],
   "source": [
    "import random"
   ]
  },
  {
   "cell_type": "code",
   "execution_count": 38,
   "id": "00cb91c0-6a67-4c4d-9ffb-5ba4b65823db",
   "metadata": {},
   "outputs": [],
   "source": [
    "import string"
   ]
  },
  {
   "cell_type": "code",
   "execution_count": 39,
   "id": "66cdfd08-bfd9-4f56-9594-99ef3c8a6f4d",
   "metadata": {},
   "outputs": [],
   "source": [
    "#create function for generate documents\n",
    "def generate_document():\n",
    "    return{\n",
    "        \"name\":''.join(random.choices(string.ascii_letters,k=10)),\n",
    "        \"age\":random.randint(18,80),\n",
    "        \"email\":''.join(random.choices(string.ascii_lowercase,k=5)),\n",
    "        \"score\":random.uniform(0,100)\n",
    "    }"
   ]
  },
  {
   "cell_type": "code",
   "execution_count": 40,
   "id": "5637d7f9-0965-43b5-ba3d-cef88cd8c81f",
   "metadata": {},
   "outputs": [],
   "source": [
    "import time"
   ]
  },
  {
   "cell_type": "code",
   "execution_count": 41,
   "id": "be47537f-d902-4fe4-b6ac-04531d6c3f39",
   "metadata": {},
   "outputs": [],
   "source": [
    "num_of_doc=10000"
   ]
  },
  {
   "cell_type": "code",
   "execution_count": 42,
   "id": "68898688-c598-4e18-9b4b-efceac7a4911",
   "metadata": {},
   "outputs": [],
   "source": [
    "start_insert=time.time()"
   ]
  },
  {
   "cell_type": "code",
   "execution_count": 43,
   "id": "240a0bbd-3594-4276-aec5-a75d03723ac2",
   "metadata": {},
   "outputs": [],
   "source": [
    "for _ in range(num_of_doc):\n",
    "    doc=generate_document()\n",
    "    collection.insert_one(doc)"
   ]
  },
  {
   "cell_type": "code",
   "execution_count": 44,
   "id": "f6e7523d-680c-40fb-8d50-5e0f17466d20",
   "metadata": {},
   "outputs": [],
   "source": [
    "end_insert=time.time()"
   ]
  },
  {
   "cell_type": "code",
   "execution_count": 45,
   "id": "b479e83f-7039-4050-91dc-342276f9964a",
   "metadata": {},
   "outputs": [
    {
     "name": "stdout",
     "output_type": "stream",
     "text": [
      "Insert time for 10000 : 4.9562 second\n"
     ]
    }
   ],
   "source": [
    "print(f\"Insert time for {num_of_doc} : {end_insert - start_insert:.4f} second\")"
   ]
  },
  {
   "cell_type": "code",
   "execution_count": null,
   "id": "fdbf256f-e0a6-49ec-8d78-91afd136cae0",
   "metadata": {},
   "outputs": [],
   "source": []
  }
 ],
 "metadata": {
  "kernelspec": {
   "display_name": "Python 3 (ipykernel)",
   "language": "python",
   "name": "python3"
  },
  "language_info": {
   "codemirror_mode": {
    "name": "ipython",
    "version": 3
   },
   "file_extension": ".py",
   "mimetype": "text/x-python",
   "name": "python",
   "nbconvert_exporter": "python",
   "pygments_lexer": "ipython3",
   "version": "3.12.4"
  }
 },
 "nbformat": 4,
 "nbformat_minor": 5
}
